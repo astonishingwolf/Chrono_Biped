{
  "nbformat": 4,
  "nbformat_minor": 0,
  "metadata": {
    "colab": {
      "name": "Untitled5.ipynb",
      "provenance": [],
      "collapsed_sections": [],
      "authorship_tag": "ABX9TyOADnmtHt7COQYAQxHCDObT",
      "include_colab_link": true
    },
    "kernelspec": {
      "name": "python3",
      "display_name": "Python 3"
    },
    "language_info": {
      "name": "python"
    }
  },
  "cells": [
    {
      "cell_type": "markdown",
      "metadata": {
        "id": "view-in-github",
        "colab_type": "text"
      },
      "source": [
        "<a href=\"https://colab.research.google.com/github/astonishingwolf/Chrono_Biped/blob/main/Untitled5.ipynb\" target=\"_parent\"><img src=\"https://colab.research.google.com/assets/colab-badge.svg\" alt=\"Open In Colab\"/></a>"
      ]
    },
    {
      "cell_type": "code",
      "execution_count": 1,
      "metadata": {
        "id": "sbU3tKdXHVeP"
      },
      "outputs": [],
      "source": [
        "r = 10\n",
        "l1 = 130\n",
        "l2 = 130\n"
      ]
    },
    {
      "cell_type": "code",
      "source": [
        "import math as m\n",
        "def theta2(x,y):\n",
        "  t2 = m.acos((x*x + y*y - l1*l1 - l2*l2)/(2*l1*l2))\n",
        "  return t2\n",
        "\n",
        "def theta1(x,y):\n",
        "  t1 = m.atan(y/x) - m.tan(l2*m.sin(theta2(x,y))/(l1+l2*m.cos(theta2(x,y))))\n",
        "  return t1\n"
      ],
      "metadata": {
        "id": "1lXH4yP61CpS"
      },
      "execution_count": 2,
      "outputs": []
    },
    {
      "cell_type": "code",
      "source": [
        "x=0\n",
        "y =-130\n",
        "t2 = (x*x + y*y - l1*l1 - l2*l2)/(2*l1*l2)\n",
        "print(t2)\n",
        "#theta2(1,1)"
      ],
      "metadata": {
        "colab": {
          "base_uri": "https://localhost:8080/"
        },
        "id": "SlMRvik7PRFw",
        "outputId": "07da5fba-9c7b-4557-ff6b-449118f6da5e"
      },
      "execution_count": 3,
      "outputs": [
        {
          "output_type": "stream",
          "name": "stdout",
          "text": [
            "-0.5\n"
          ]
        }
      ]
    },
    {
      "cell_type": "code",
      "source": [
        "def xcoord(t):\n",
        "  return r*(t-m.sin(t))\n",
        "\n",
        "def ycoord(t):\n",
        "  return r*(1-m.cos(t))-130\n"
      ],
      "metadata": {
        "id": "5UxkOtuF4Fsc"
      },
      "execution_count": 4,
      "outputs": []
    },
    {
      "cell_type": "code",
      "source": [
        "import numpy as np\n",
        "import sys\n",
        "vis = [];\n",
        "dt = np.arange(0.01,6.28,0.01)\n",
        "data = []\n",
        "for i in dt:\n",
        "  #print(i)\n",
        "  xc = xcoord(i)\n",
        "  yc = ycoord(i)\n",
        "  vis.append([xc,yc])\n",
        "  t2 = theta2(xc,yc)\n",
        "  t1 = theta1(xc,yc)\n",
        "  #print([t1,t2])\n",
        "  data.append([i,xc,yc,t2,t1])\n"
      ],
      "metadata": {
        "id": "ivqh1DobGr9M"
      },
      "execution_count": 8,
      "outputs": []
    },
    {
      "cell_type": "code",
      "source": [
        "data[5.00]"
      ],
      "metadata": {
        "colab": {
          "base_uri": "https://localhost:8080/"
        },
        "id": "9fvxSg7tJXRh",
        "outputId": "51627b83-827c-418d-d65a-2d7f332c90b5"
      },
      "execution_count": null,
      "outputs": [
        {
          "output_type": "execute_result",
          "data": {
            "text/plain": [
              "{-115.67324370926453,\n",
              " -3.3769515205690572,\n",
              " 1.7557601008377581,\n",
              " 119.17848549326277}"
            ]
          },
          "metadata": {},
          "execution_count": 19
        }
      ]
    },
    {
      "cell_type": "code",
      "source": [
        "vis[][1]"
      ],
      "metadata": {
        "colab": {
          "base_uri": "https://localhost:8080/",
          "height": 130
        },
        "id": "DhMOhTWAJom2",
        "outputId": "5af86629-b4f5-4bd3-de44-f4acf2aa5cc7"
      },
      "execution_count": null,
      "outputs": [
        {
          "output_type": "error",
          "ename": "SyntaxError",
          "evalue": "ignored",
          "traceback": [
            "\u001b[0;36m  File \u001b[0;32m\"<ipython-input-24-7e2e3f256da2>\"\u001b[0;36m, line \u001b[0;32m1\u001b[0m\n\u001b[0;31m    vis[][1]\u001b[0m\n\u001b[0m        ^\u001b[0m\n\u001b[0;31mSyntaxError\u001b[0m\u001b[0;31m:\u001b[0m invalid syntax\n"
          ]
        }
      ]
    },
    {
      "cell_type": "code",
      "source": [
        "import seaborn as sns\n",
        "x = vis[:,1]\n",
        "# y axis values\n",
        "y =vis[:,2]\n",
        " \n",
        "# plotting strip plot with seaborn\n",
        "ax = sns.stripplot(x, y);\n",
        " \n",
        "# giving labels to x-axis and y-axis\n",
        "ax.set(xlabel ='Days', ylabel ='Amount_spend')\n",
        " \n",
        "# giving title to the plot\n",
        "plt.title('My first graph');\n",
        " \n",
        "# function to show plot\n",
        "plt.show()"
      ],
      "metadata": {
        "colab": {
          "base_uri": "https://localhost:8080/",
          "height": 234
        },
        "id": "JgbvoDMQIkDB",
        "outputId": "2dfd8c20-a160-4785-bcb3-ec5a2e721e8b"
      },
      "execution_count": null,
      "outputs": [
        {
          "output_type": "error",
          "ename": "TypeError",
          "evalue": "ignored",
          "traceback": [
            "\u001b[0;31m---------------------------------------------------------------------------\u001b[0m",
            "\u001b[0;31mTypeError\u001b[0m                                 Traceback (most recent call last)",
            "\u001b[0;32m<ipython-input-20-d05407dcc50e>\u001b[0m in \u001b[0;36m<module>\u001b[0;34m()\u001b[0m\n\u001b[1;32m      1\u001b[0m \u001b[0;32mimport\u001b[0m \u001b[0mseaborn\u001b[0m \u001b[0;32mas\u001b[0m \u001b[0msns\u001b[0m\u001b[0;34m\u001b[0m\u001b[0;34m\u001b[0m\u001b[0m\n\u001b[0;32m----> 2\u001b[0;31m \u001b[0mx\u001b[0m \u001b[0;34m=\u001b[0m \u001b[0mvis\u001b[0m\u001b[0;34m[\u001b[0m\u001b[0;34m:\u001b[0m\u001b[0;34m,\u001b[0m\u001b[0;36m1\u001b[0m\u001b[0;34m]\u001b[0m\u001b[0;34m\u001b[0m\u001b[0;34m\u001b[0m\u001b[0m\n\u001b[0m\u001b[1;32m      3\u001b[0m \u001b[0;31m# y axis values\u001b[0m\u001b[0;34m\u001b[0m\u001b[0;34m\u001b[0m\u001b[0;34m\u001b[0m\u001b[0m\n\u001b[1;32m      4\u001b[0m \u001b[0my\u001b[0m \u001b[0;34m=\u001b[0m\u001b[0mvis\u001b[0m\u001b[0;34m[\u001b[0m\u001b[0;34m:\u001b[0m\u001b[0;34m,\u001b[0m\u001b[0;36m2\u001b[0m\u001b[0;34m]\u001b[0m\u001b[0;34m\u001b[0m\u001b[0;34m\u001b[0m\u001b[0m\n\u001b[1;32m      5\u001b[0m \u001b[0;34m\u001b[0m\u001b[0m\n",
            "\u001b[0;31mTypeError\u001b[0m: list indices must be integers or slices, not tuple"
          ]
        }
      ]
    }
  ]
}