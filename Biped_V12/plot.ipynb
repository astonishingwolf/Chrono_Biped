{
 "cells": [
  {
   "cell_type": "code",
   "execution_count": 1,
   "metadata": {},
   "outputs": [],
   "source": [
    "import numpy as np\n",
    "import matplotlib.pyplot as plt\n"
   ]
  },
  {
   "cell_type": "code",
   "execution_count": 33,
   "metadata": {},
   "outputs": [],
   "source": [
    "frc1 = np.loadtxt('frc1.npy',dtype=str)\n",
    "frc2 = np.loadtxt('frc2.npy',dtype=str)\n",
    "trq1 = np.loadtxt('trq1.npy',dtype=str)\n",
    "trq2 = np.loadtxt('trq2.npy',dtype=str)"
   ]
  },
  {
   "cell_type": "code",
   "execution_count": 34,
   "metadata": {},
   "outputs": [],
   "source": [
    "frc1 = np.delete(frc1,0,1)\n",
    "frc1 = np.delete(frc1,3,1)\n",
    "frc2 = np.delete(frc2,0,1)\n",
    "frc2 = np.delete(frc2,3,1)\n",
    "trq1 = np.delete(trq1,0,1)\n",
    "trq1 = np.delete(trq1,3,1)\n",
    "trq2 = np.delete(trq2,0,1)\n",
    "trq2 = np.delete(trq2,3,1)\n"
   ]
  },
  {
   "cell_type": "markdown",
   "metadata": {},
   "source": [
    "length(frc1)"
   ]
  },
  {
   "cell_type": "code",
   "execution_count": 36,
   "metadata": {},
   "outputs": [
    {
     "data": {
      "text/plain": [
       "787"
      ]
     },
     "execution_count": 36,
     "metadata": {},
     "output_type": "execute_result"
    }
   ],
   "source": [
    "len(frc1)"
   ]
  }
 ],
 "metadata": {
  "kernelspec": {
   "display_name": "Python 3.6.13 ('myenv')",
   "language": "python",
   "name": "python3"
  },
  "language_info": {
   "codemirror_mode": {
    "name": "ipython",
    "version": 3
   },
   "file_extension": ".py",
   "mimetype": "text/x-python",
   "name": "python",
   "nbconvert_exporter": "python",
   "pygments_lexer": "ipython3",
   "version": "3.6.13"
  },
  "orig_nbformat": 4,
  "vscode": {
   "interpreter": {
    "hash": "152499e97e1df11c95de39ba13335f96246494c18b86266957debe0c05dc087c"
   }
  }
 },
 "nbformat": 4,
 "nbformat_minor": 2
}
